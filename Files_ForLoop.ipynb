{
  "nbformat": 4,
  "nbformat_minor": 0,
  "metadata": {
    "colab": {
      "provenance": []
    },
    "kernelspec": {
      "name": "python3",
      "display_name": "Python 3"
    },
    "language_info": {
      "name": "python"
    }
  },
  "cells": [
    {
      "cell_type": "markdown",
      "source": [
        "Display the names of your friends one by one stored in the form of a list"
      ],
      "metadata": {
        "id": "1GHIDoaJVVW2"
      }
    },
    {
      "cell_type": "code",
      "execution_count": 1,
      "metadata": {
        "colab": {
          "base_uri": "https://localhost:8080/"
        },
        "id": "jKG8gAiPST9B",
        "outputId": "52179781-088a-4cdb-d89a-728de04d38fe"
      },
      "outputs": [
        {
          "output_type": "stream",
          "name": "stdout",
          "text": [
            "George\n",
            "Catherine\n",
            "John\n",
            "Chirag\n",
            "Rishabh\n",
            "Tushar\n",
            "Sagar\n",
            "Alok\n"
          ]
        }
      ],
      "source": [
        "names=['George','Catherine','John','Chirag','Rishabh','Tushar','Sagar','Alok']\n",
        "\n",
        "for name in names: #name is an iterator\n",
        "  print(name)"
      ]
    },
    {
      "cell_type": "code",
      "source": [
        "fruits=['Apple','Mango','Banana','Grapes','Kivi']\n",
        "\n",
        "for fruit in fruits:\n",
        "  print(fruit)"
      ],
      "metadata": {
        "colab": {
          "base_uri": "https://localhost:8080/"
        },
        "id": "l8GWDQAbWzVv",
        "outputId": "8677227b-4fc9-45a5-c5a3-61d3e99d280d"
      },
      "execution_count": 2,
      "outputs": [
        {
          "output_type": "stream",
          "name": "stdout",
          "text": [
            "Apple\n",
            "Mango\n",
            "Banana\n",
            "Grapes\n",
            "Kivi\n"
          ]
        }
      ]
    },
    {
      "cell_type": "code",
      "source": [
        "for i in fruits:\n",
        "  print(i,end=' ')"
      ],
      "metadata": {
        "colab": {
          "base_uri": "https://localhost:8080/"
        },
        "id": "ku1RpQoCYLbU",
        "outputId": "d3508561-d350-40fd-970f-99fe506713a2"
      },
      "execution_count": 10,
      "outputs": [
        {
          "output_type": "stream",
          "name": "stdout",
          "text": [
            "Apple Mango Banana Grapes Kivi "
          ]
        }
      ]
    },
    {
      "cell_type": "markdown",
      "source": [
        "Display the first 10 whole numbers"
      ],
      "metadata": {
        "id": "wQzSazzxbHwW"
      }
    },
    {
      "cell_type": "code",
      "source": [
        "for i in range(0,10): #bydefault the step size will be 1\n",
        "  print(i)"
      ],
      "metadata": {
        "colab": {
          "base_uri": "https://localhost:8080/"
        },
        "id": "3ti-E-TtYOup",
        "outputId": "8edbf644-bc9e-417c-a235-43c133cc5467"
      },
      "execution_count": 4,
      "outputs": [
        {
          "output_type": "stream",
          "name": "stdout",
          "text": [
            "0\n",
            "1\n",
            "2\n",
            "3\n",
            "4\n",
            "5\n",
            "6\n",
            "7\n",
            "8\n",
            "9\n"
          ]
        }
      ]
    },
    {
      "cell_type": "code",
      "source": [
        "for i in range(0,10,2): #here step size is 2 - consequtive o/ps will have difference of 2\n",
        "  print(i)"
      ],
      "metadata": {
        "colab": {
          "base_uri": "https://localhost:8080/"
        },
        "id": "TlkxsALvbN9E",
        "outputId": "979f89f3-4e85-491e-a223-ca30a163fc11"
      },
      "execution_count": 5,
      "outputs": [
        {
          "output_type": "stream",
          "name": "stdout",
          "text": [
            "0\n",
            "2\n",
            "4\n",
            "6\n",
            "8\n"
          ]
        }
      ]
    },
    {
      "cell_type": "code",
      "source": [
        "for i in range(0,10,3):\n",
        "  print(i,end=' ')"
      ],
      "metadata": {
        "colab": {
          "base_uri": "https://localhost:8080/"
        },
        "id": "MWx1WuF_cZEc",
        "outputId": "25a0f77a-0208-42e1-f75a-2648adc37e93"
      },
      "execution_count": 9,
      "outputs": [
        {
          "output_type": "stream",
          "name": "stdout",
          "text": [
            "0 3 6 9 "
          ]
        }
      ]
    },
    {
      "cell_type": "markdown",
      "source": [
        "Take a list of numbers and display all the even numbers from this list"
      ],
      "metadata": {
        "id": "lzP6wrOwddD_"
      }
    },
    {
      "cell_type": "code",
      "source": [
        "my_list=[2,3,4,5,6,8,9]\n",
        "\n",
        "for i in my_list:\n",
        "  if i%2==0:\n",
        "    print(i,end=' ')"
      ],
      "metadata": {
        "colab": {
          "base_uri": "https://localhost:8080/"
        },
        "id": "Xk0BseV8clac",
        "outputId": "617ce66c-42c9-47c4-8937-e20364c32d33"
      },
      "execution_count": 8,
      "outputs": [
        {
          "output_type": "stream",
          "name": "stdout",
          "text": [
            "2 4 6 8 "
          ]
        }
      ]
    },
    {
      "cell_type": "markdown",
      "source": [
        "Take a list of numbers and display all the even numbers from this list"
      ],
      "metadata": {
        "id": "uHSmr9-YfuSh"
      }
    },
    {
      "cell_type": "code",
      "source": [
        "my_list=[2,3,4,5,6,8,9]\n",
        "\n",
        "for i in my_list:\n",
        "  if i%2!=0:\n",
        "    print(i,end=' ')"
      ],
      "metadata": {
        "colab": {
          "base_uri": "https://localhost:8080/"
        },
        "id": "jQbcOusdfF7l",
        "outputId": "eb9d6331-fc4f-48dd-b6e3-9d0512fdb90a"
      },
      "execution_count": 12,
      "outputs": [
        {
          "output_type": "stream",
          "name": "stdout",
          "text": [
            "3 5 9 "
          ]
        }
      ]
    },
    {
      "cell_type": "code",
      "source": [],
      "metadata": {
        "id": "C4ue_tnogyVU"
      },
      "execution_count": null,
      "outputs": []
    }
  ]
}